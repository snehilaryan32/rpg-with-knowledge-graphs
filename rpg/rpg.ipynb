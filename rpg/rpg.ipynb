{
 "cells": [
  {
   "cell_type": "markdown",
   "metadata": {},
   "source": [
    "# Neo4j Interface"
   ]
  },
  {
   "cell_type": "code",
   "execution_count": 96,
   "metadata": {},
   "outputs": [],
   "source": [
    "from neo4j import GraphDatabase\n",
    "import re\n",
    "import random\n",
    "from nltk.corpus import stopwords\n",
    "from nltk.tokenize import word_tokenize\n",
    "import sys\n",
    "\n",
    "class Neo4jDAO():\n",
    "    def __init__(self, uri, user, pwd):\n",
    "        super().__init__()\n",
    "        self.__uri = uri\n",
    "        self.__user = user\n",
    "        self.__pwd = pwd\n",
    "        self.__driver = None\n",
    "        try:\n",
    "            self.__driver = GraphDatabase.driver(self.__uri, auth=(self.__user, self.__pwd))\n",
    "        except Exception as e:\n",
    "            print(\"Failed to create the driver:\", e)\n",
    "\n",
    "    def close(self):\n",
    "        if self.__driver is not None:\n",
    "            self.__driver.close()\n",
    "\n",
    "    def query(self, query, db=None):\n",
    "        assert self.__driver is not None, \"Driver not initialized!\"\n",
    "        session = None\n",
    "        response = None\n",
    "        try:\n",
    "            session = self.__driver.session(database=db) if db is not None else self.__driver.session()\n",
    "            response = list(session.run(query))\n",
    "        except Exception as e:\n",
    "            print(\"Query failed:\", e)\n",
    "        finally:\n",
    "            if session is not None:\n",
    "                session.close()\n",
    "        return response\n",
    "\n",
    "    def createNode(self, objType, dictArgs):\n",
    "        # figure out a good way to replace the strings in the dictionary\n",
    "        the_str = f\"merge (x:{objType} {dictArgs})\"\n",
    "        the_str = re.sub(\"'(\\w+)':\", r\"\\1:\", the_str)\n",
    "        return self.query(the_str)\n",
    "\n",
    "    def createEdge(self, objTypeN1, argsN1, objTypeN2, argsN2, relType):\n",
    "        the_str = f\"match (x:{objTypeN1} {argsN1}) match (y:{objTypeN2} {argsN2}) merge (x)-[:{relType}]->(y)\"\n",
    "        the_str = re.sub(\"'(\\w+)':\", r\"\\1:\", the_str)\n",
    "        return self.query(the_str)\n",
    "\n",
    "    def deleteNode(self, objType, dictArgs):\n",
    "        the_str = f\"match (x:{objType} {dictArgs}) detach delete x\"\n",
    "        the_str = re.sub(\"'(\\w+)':\", r\"\\1:\", the_str)\n",
    "        return self.query(the_str)\n",
    "\n",
    "    def deleteEdge(self, objTypeN1, argsN1, objTypeN2, argsN2, relType):\n",
    "        the_str = f\"match (x:{objTypeN1} {argsN1})-[r:{relType}]-(y:{objTypeN2} {argsN2}) delete r\"\n",
    "        the_str = re.sub(\"'(\\w+)':\", r\"\\1:\", the_str)\n",
    "        return self.query(the_str)\n",
    "\n",
    "    def updateNode(self, objType, dictArgs, update_name, update_data):\n",
    "        the_str = f\"match (x:{objType} {dictArgs}) set x.{update_name} = {update_data} return x\"\n",
    "        the_str = re.sub(\"'(\\w+)':\", r\"\\1:\", the_str)\n",
    "        return self.query(the_str)\n",
    "\n",
    "    def updateEdge(self, objTypeN1, argsN1, objTypeN2, argsN2, relType, update_name, update_data):\n",
    "        the_str = f\"match (x:{objTypeN1} {argsN1})-[r:{relType}]-(y:{objTypeN2} {argsN2}) set r.{update_name} = {update_data} return r\"\n",
    "        the_str = re.sub(\"'(\\w+)':\", r\"\\1:\", the_str)\n",
    "        return self.query(the_str)\n",
    "\n",
    "class Neo_Node:\n",
    "    def __init__(self, name, properties):\n",
    "        self.name = name\n",
    "        self.properties = properties\n",
    "        self.type = None\n",
    "\n",
    "    def set_name(self, name):\n",
    "        self.name = name\n",
    "\n",
    "    def set_type(self, type):\n",
    "        self.type = type\n",
    "\n",
    "    def set_properties(self, properties):\n",
    "        self.properties = properties\n",
    "\n",
    "    def get_name(self):\n",
    "        return self.name\n",
    "        \n",
    "    def get_properties(self):\n",
    "        return self.properties\n",
    "    \n",
    "    def get_type(self):\n",
    "        return self.type"
   ]
  },
  {
   "cell_type": "code",
   "execution_count": 130,
   "metadata": {},
   "outputs": [],
   "source": [
    "def extract_tuples(record):\n",
    "    tup_vals = []\n",
    "    for i, val in enumerate(record):\n",
    "        if i == 1:\n",
    "            relationship_type = val.type\n",
    "            relationship_type = relationship_type.replace('_', \" \")\n",
    "            tup_vals.append(relationship_type)\n",
    "        else:\n",
    "            node_name = None\n",
    "            for name in val.labels:\n",
    "                node_name = name\n",
    "            node_properties = dict(val.items())\n",
    "            node = Neo_Node(node_name, node_properties)\n",
    "            tup_vals.append(node)\n",
    "\n",
    "    return tuple(val for val in tup_vals)\n",
    "\n",
    "def extract_facts(res):\n",
    "    all_facts = []\n",
    "    for record in res:\n",
    "        new_tup = extract_tuples(record)\n",
    "        all_facts.append(new_tup)\n",
    "\n",
    "    return all_facts\n",
    "\n",
    "# def verbalize_tuple_2(tuple_in):\n",
    "#     string = tuple_in[0].get_properties()['name'] + \" \" + tuple_in[1] + \" \" + tuple_in[2].get_properties()['name']\n",
    "#     # string = tuple_in[0].get_properties() + \" \" + tuple_in[1] + \" \" + tuple_in[2].get_properties()\n",
    "#     return string\n",
    "\n",
    "def verbalize_tuple_2(tuple_in):\n",
    "    node1_props = \", \".join([f\"{key}: {value}\" for key, value in tuple_in[0].get_properties().items()])\n",
    "    node2_props = \", \".join([f\"{key}: {value}\" for key, value in tuple_in[2].get_properties().items()])\n",
    "    string = f\"{node1_props} {tuple_in[1]} {node2_props}\"\n",
    "    return string\n",
    "\n",
    "\n",
    "def facts_to_strings(facts):\n",
    "    fact_str = []\n",
    "    for fact in facts:\n",
    "        fact_str.append(verbalize_tuple_2(fact))\n",
    "    return fact_str\n",
    "\n",
    "def cosine_similarity(user_string, facts_list):  \n",
    "        cosine_scores = []\n",
    "        X = user_string.lower()\n",
    "        for fact in facts_list:\n",
    "            Y = fact.lower()\n",
    "            X_list = word_tokenize(X)\n",
    "            Y_list = word_tokenize(Y)\n",
    "            sw = stopwords.words('english')\n",
    "            l1 = []; l2 = []\n",
    "            X_set = {w for w in X_list if not w in sw}\n",
    "            Y_set = {w for w in Y_list if not w in sw}\n",
    "            rvector = X_set.union(Y_set)\n",
    "            for w in rvector:\n",
    "                if w in X_set: \n",
    "                    l1.append(1) # create a vector\n",
    "                else: \n",
    "                    l1.append(0)\n",
    "                if w in Y_set: \n",
    "                    l2.append(1)\n",
    "                else: \n",
    "                    l2.append(0)\n",
    "            c = 0\n",
    "            # cosine formula \n",
    "            for i in range(len(rvector)):\n",
    "                c+= l1[i]*l2[i]\n",
    "            cosine = c / float((sum(l1)*sum(l2))**0.5)\n",
    "            cosine_scores.append(cosine)\n",
    "        if max(cosine_scores) == 0:\n",
    "            rand_idx = random.randrange(len(cosine_scores))\n",
    "            return facts_list[rand_idx], rand_idx, cosine_scores\n",
    "        return facts_list[cosine_scores.index(max(cosine_scores))], cosine_scores.index(max(cosine_scores)), cosine_scores\n",
    "\n",
    "def find_connections(dao, match_tuple):\n",
    "        node_name = match_tuple[2].get_properties()['name']\n",
    "        # query_str = f\"MATCH (n)-[r]->(m) WHERE n.name = '{node_name}' RETURN n, r, m\"\n",
    "        query_str = \"match (n)-[r]->(m) return n,r,m\"\n",
    "        res = dao.query(query_str)\n",
    "        # Get turn neo4j result into fact tuples in a list\n",
    "        all_tuples = extract_facts(res)\n",
    "        print(sys.getsizeof(all_tuples))\n",
    "        # Save and return all relevant information in string\n",
    "        all_relevant_information = []\n",
    "        all_relevant_information.append(verbalize_tuple_2(match_tuple))\n",
    "        possible_tuples = []\n",
    "        for tup in all_tuples:\n",
    "            verbalize_tuple_2(tup)\n",
    "            # iterate over each node\n",
    "            for node in tup:\n",
    "                # Skip relationship strings\n",
    "                if type(node) == str:\n",
    "                    continue\n",
    "                # Find all outgoing connections from main quest node.\n",
    "                if match_tuple[2].get_properties()['name'] == node.get_properties()['name']:\n",
    "                    possible_tuples.append(tup)\n",
    "        '''\n",
    "        print(\"\\nAll possible matches\")\n",
    "        for tup in possible_tuples:\n",
    "            print(self.verbalize_tuple_2(tup))\n",
    "        '''\n",
    "        return possible_tuples\n",
    "\n",
    "#Function to store all the relevent information as a list of dictionaries\n",
    "def matched_coneections_all_details(possible_tuples):\n",
    "    details_matched_relationships = []\n",
    "    for relationship in possible_tuples:\n",
    "        node1, relation, node2 = relationship\n",
    "        details_matched_relationships.append({\n",
    "            \"node1\": {\n",
    "                \"type\": node1.get_type(),\n",
    "                \"properties\": node1.get_properties()\n",
    "            },\n",
    "            \"relation\": relation,\n",
    "            \"node2\": {\n",
    "                \"type\": node2.get_type(),\n",
    "                \"properties\": node2.get_properties()\n",
    "            }\n",
    "        })\n",
    "    return details_matched_relationships\n",
    "    \n"
   ]
  },
  {
   "cell_type": "code",
   "execution_count": 98,
   "metadata": {},
   "outputs": [],
   "source": [
    "from dotenv import load_dotenv\n",
    "import os\n",
    "import nltk\n",
    "\n",
    "load_dotenv()\n",
    "\n",
    "url      = os.getenv(\"NEO4J_URI\")\n",
    "username = os.getenv(\"NEO4J_USERNAME\")\n",
    "password = os.getenv(\"NEO4J_PASSWORD\")\n",
    "database = os.getenv(\"NEO4J_DATABASE\")\n",
    "\n",
    "dao = Neo4jDAO(url, username, password)\n"
   ]
  },
  {
   "cell_type": "code",
   "execution_count": 124,
   "metadata": {},
   "outputs": [
    {
     "name": "stderr",
     "output_type": "stream",
     "text": [
      "[nltk_data] Downloading package punkt to\n",
      "[nltk_data]     /home/snehilaryan/nltk_data...\n",
      "[nltk_data]   Package punkt is already up-to-date!\n",
      "[nltk_data] Downloading package stopwords to\n",
      "[nltk_data]     /home/snehilaryan/nltk_data...\n",
      "[nltk_data]   Package stopwords is already up-to-date!\n"
     ]
    }
   ],
   "source": [
    "query_str = \"match (n)-[r]->(m) return n,r,m\"\n",
    "res = dao.query(query_str)\n",
    "\n",
    "facts = extract_facts(res)\n",
    "\n",
    "fact_strings = facts_to_strings(facts)\n",
    "# print(fact_strings)\n",
    "nltk.download('punkt')\n",
    "nltk.download('stopwords')\n",
    "player_input = \"I want to A tier 2 melee weapon\"\n",
    "matched, idx, cosine_sim = cosine_similarity(player_input, fact_strings)"
   ]
  },
  {
   "cell_type": "code",
   "execution_count": 120,
   "metadata": {},
   "outputs": [
    {
     "name": "stdout",
     "output_type": "stream",
     "text": [
      "tier: Tier 2, name: Errata, weight: 4.5, bonuses: ['+25% Armor Penetration', '+17% Burn Chance'], class: Melee LOCATED IN name: Kabuki 40\n"
     ]
    }
   ],
   "source": [
    "print(matched, idx)"
   ]
  },
  {
   "cell_type": "code",
   "execution_count": 121,
   "metadata": {},
   "outputs": [
    {
     "name": "stdout",
     "output_type": "stream",
     "text": [
      "920\n",
      "[(<__main__.Neo_Node object at 0x7f037f5a1450>, 'LOCATED IN', <__main__.Neo_Node object at 0x7f037f5a3580>), (<__main__.Neo_Node object at 0x7f037e74ee30>, 'LOCATED IN', <__main__.Neo_Node object at 0x7f037e74fb50>), (<__main__.Neo_Node object at 0x7f037e74dd50>, 'LOCATED IN', <__main__.Neo_Node object at 0x7f037e74d990>)]\n"
     ]
    }
   ],
   "source": [
    "x = find_connections(dao, facts[idx])\n",
    "print(x)"
   ]
  },
  {
   "cell_type": "code",
   "execution_count": 141,
   "metadata": {},
   "outputs": [],
   "source": [
    "y = str(matched_coneections_all_details(x))"
   ]
  },
  {
   "cell_type": "code",
   "execution_count": 140,
   "metadata": {},
   "outputs": [
    {
     "name": "stdout",
     "output_type": "stream",
     "text": [
      "[{'node1': {'type': None, 'properties': {'name': 'Regina Jones'}}, 'relation': 'LOCATED IN', 'node2': {'type': None, 'properties': {'name': 'Kabuki'}}}, {'node1': {'type': None, 'properties': {'tier': 'Tier 2', 'name': 'Errata', 'weight': '4.5', 'bonuses': ['+25% Armor Penetration', '+17% Burn Chance'], 'class': 'Melee'}}, 'relation': 'LOCATED IN', 'node2': {'type': None, 'properties': {'name': 'Kabuki'}}}, {'node1': {'type': None, 'properties': {'name': 'Kabuki'}}, 'relation': 'LOCATED IN', 'node2': {'type': None, 'properties': {'name': 'Watson'}}}]\n"
     ]
    }
   ],
   "source": [
    "print(str(y))\n"
   ]
  },
  {
   "cell_type": "markdown",
   "metadata": {},
   "source": [
    "# Structured Content Creation using langchain"
   ]
  },
  {
   "cell_type": "code",
   "execution_count": 146,
   "metadata": {},
   "outputs": [
    {
     "name": "stderr",
     "output_type": "stream",
     "text": [
      "/home/snehilaryan/game-llm-knowledge/rpg-with-knowledge-graphs/myenv/lib/python3.10/site-packages/langchain_openai/chat_models/base.py:299: UserWarning: WARNING! response_format is not default parameter.\n",
      "                    response_format was transferred to model_kwargs.\n",
      "                    Please confirm that response_format is what you intended.\n",
      "  warnings.warn(\n"
     ]
    },
    {
     "data": {
      "text/plain": [
       "AIMessage(content='{\\n    \"title\": \"The Big Heist\",\\n    \"npc_dialogue\": \"Hey there, I\\'ve got a big job for you. We\\'re going to rob the biggest bank in Los Santos. Are you in?\",\\n    \"objective\": \"Gather a team of skilled criminals, plan the heist, execute the plan and escape with the money.\",\\n    \"reward\": \"A cut of the stolen money and a new safehouse in a luxurious location.\"\\n}')"
      ]
     },
     "execution_count": 146,
     "metadata": {},
     "output_type": "execute_result"
    }
   ],
   "source": [
    "from langchain_core.pydantic_v1 import BaseModel, Field\n",
    "from langchain_openai import ChatOpenAI\n",
    "\n",
    "class QuestContent(BaseModel):\n",
    "    title: str = Field(description=\"The title of the quest\")\n",
    "    npc_dialogue: str = Field(description=\"The dialogue of the NPC that gives the quest to the player\")\n",
    "    objective: str = Field(description=\"The objective of the quest\")\n",
    "    reward : str = Field(description=\"The reward for completing the quest\")\n",
    "\n",
    "temperature = 0.0\n",
    "model = \"gpt-4\"\n",
    "model = ChatOpenAI(model=\"gpt-3.5-turbo-0125\", temperature=0, response_format={ \"type\": \"json_object\" })\n",
    "# structured_llm = model.with_structured_output(QuestContent)\n",
    "\n",
    "model.invoke(\n",
    "    \"Generate a GTA V quest , respond in JSON with `title`, `npc_dialogue`, `objective` and `reward`\",\n",
    ")\n",
    "\n",
    "\n"
   ]
  },
  {
   "cell_type": "code",
   "execution_count": 147,
   "metadata": {},
   "outputs": [
    {
     "name": "stdout",
     "output_type": "stream",
     "text": [
      "content='{\\n    \"title\": \"The Errata Blade\",\\n    \"npc_dialogue\": \"Ah, greetings traveler! I am Regina Jones, the local blacksmith here in Kabuki. I have heard of a powerful Tier 2 melee weapon called Errata that is said to be located in the district of Watson. Bring me this weapon and I shall reward you handsomely.\",\\n    \"objective\": \"Travel to Watson and retrieve the Errata blade from its hiding place.\",\\n    \"reward\": \"A Tier 2 melee weapon - Errata (Stats: +25% Armor Penetration, +17% Burn Chance)\"\\n}'\n"
     ]
    }
   ],
   "source": [
    "from langchain_core.prompts import ChatPromptTemplate\n",
    "\n",
    "prompt_context = '''\n",
    "You are a rpg game quest generator system. Given some information and the type of quest which has been \n",
    "extracted from a knowledge graph you are supposed to generate the quest for the player. \n",
    "With the quest you are also expected to generate an acompynying dialouge that will be spoken \n",
    "by an NPC that will give the quest to the player. Also generate a reward as well as an exact \n",
    "objective for the quest. Respond in JSON with `title`, `npc_dialogue`, `objective` and `reward`\n",
    "'''\n",
    "\n",
    "template = ChatPromptTemplate.from_messages([\n",
    "    (\"system\", prompt_context),\n",
    "    (\"human\", \"The player input is {player_prompt}, the quest type is {quest_type_ip}. The knowledge graph output is {kg_op}\")\n",
    "])\n",
    "\n",
    "chain = template | model\n",
    "\n",
    "prompt_value = chain.invoke(\n",
    "    {\n",
    "        \"kg_op\": y,\n",
    "        \"player_prompt\": player_input,\n",
    "        \"quest_type_ip\": \"combat\"\n",
    "    }\n",
    ")\n",
    "print(prompt_value)\n",
    "\n"
   ]
  },
  {
   "cell_type": "code",
   "execution_count": 104,
   "metadata": {},
   "outputs": [
    {
     "data": {
      "text/plain": [
       "{'name': 'Mitch'}"
      ]
     },
     "execution_count": 104,
     "metadata": {},
     "output_type": "execute_result"
    }
   ],
   "source": [
    "x[0][0].get_properties()"
   ]
  },
  {
   "cell_type": "code",
   "execution_count": 105,
   "metadata": {},
   "outputs": [
    {
     "data": {
      "text/plain": [
       "{'name': 'Junkyard'}"
      ]
     },
     "execution_count": 105,
     "metadata": {},
     "output_type": "execute_result"
    }
   ],
   "source": [
    "x[1][2].get_properties()"
   ]
  },
  {
   "cell_type": "code",
   "execution_count": 106,
   "metadata": {},
   "outputs": [
    {
     "name": "stdout",
     "output_type": "stream",
     "text": [
      "Node 1 properties: {'name': 'Mitch'}\n",
      "Relation: LOCATED IN\n",
      "Node 2 properties: {'name': 'Junkyard'}\n",
      "---\n",
      "Node 1 properties: {'tier': 'Tier 5', 'name': 'BREAKTHROUGH', 'weight': '11.7', 'bonuses': ['+300% Headshot Damage Multiplier', '+100% Armor Penetration', '1.25sec Charge Time'], 'type': 'Sniper Rifle'}\n",
      "Relation: LOCATED IN\n",
      "Node 2 properties: {'name': 'Junkyard'}\n",
      "---\n",
      "Node 1 properties: {'name': 'Junkyard'}\n",
      "Relation: LOCATED IN\n",
      "Node 2 properties: {'name': 'Outskirts'}\n",
      "---\n"
     ]
    }
   ],
   "source": [
    "for relationship in x:\n",
    "    node1, relation, node2 = relationship\n",
    "    print(f\"Node 1 properties: {node1.get_properties()}\")\n",
    "    print(f\"Relation: {relation}\")\n",
    "    print(f\"Node 2 properties: {node2.get_properties()}\")\n",
    "    print(\"---\")"
   ]
  },
  {
   "cell_type": "code",
   "execution_count": 126,
   "metadata": {},
   "outputs": [
    {
     "name": "stdout",
     "output_type": "stream",
     "text": [
      "[{'node1': {'type': None, 'properties': {'name': 'Regina Jones'}}, 'relation': 'LOCATED IN', 'node2': {'type': None, 'properties': {'name': 'Kabuki'}}}, {'node1': {'type': None, 'properties': {'tier': 'Tier 2', 'name': 'Errata', 'weight': '4.5', 'bonuses': ['+25% Armor Penetration', '+17% Burn Chance'], 'class': 'Melee'}}, 'relation': 'LOCATED IN', 'node2': {'type': None, 'properties': {'name': 'Kabuki'}}}, {'node1': {'type': None, 'properties': {'name': 'Kabuki'}}, 'relation': 'LOCATED IN', 'node2': {'type': None, 'properties': {'name': 'Watson'}}}]\n"
     ]
    }
   ],
   "source": [
    "matched_relationships = []\n",
    "for relationship in x:\n",
    "    node1, relation, node2 = relationship\n",
    "    matched_relationships.append({\n",
    "        \"node1\": {\n",
    "            \"type\": node1.get_type(),\n",
    "            \"properties\": node1.get_properties()\n",
    "        },\n",
    "        \"relation\": relation,\n",
    "        \"node2\": {\n",
    "            \"type\": node2.get_type(),\n",
    "            \"properties\": node2.get_properties()\n",
    "        }\n",
    "    })\n",
    "\n",
    "print(matched_relationships)"
   ]
  },
  {
   "cell_type": "code",
   "execution_count": 107,
   "metadata": {},
   "outputs": [],
   "source": [
    "output = \"\"\n",
    "for relationship in x:\n",
    "    node1, relation, node2 = relationship\n",
    "    output += f\"Node 1 properties: {node1.get_properties()}\\n\"\n",
    "    output += f\"Relation: {relation}\\n\"\n",
    "    output += f\"Node 2 properties: {node2.get_properties()}\\n\"\n",
    "    output += \"---\\n\""
   ]
  },
  {
   "cell_type": "markdown",
   "metadata": {},
   "source": [
    "# QuestEngine"
   ]
  },
  {
   "cell_type": "code",
   "execution_count": 108,
   "metadata": {},
   "outputs": [
    {
     "name": "stdout",
     "output_type": "stream",
     "text": [
      "Start at dawn, 10 10 apples the Forbidden Forest protected by a troll\n"
     ]
    }
   ],
   "source": [
    "gathering_start_words = ['Find', 'Gather', 'Collect', 'Retrieve', 'Get me', 'Bring back', 'Obtain', 'Get']\n",
    "exploration_start_words = ['Go to', 'Visit', 'Go see', 'Travel to', 'Journey to', ' Explore']\n",
    "combat_start_words = ['Fight', 'Slay', 'Kill', 'Defeat', 'Vanquish', 'Eliminate']\n",
    "possible_relationships = ['located_in', 'has', 'protected_by', 'wants_killed']\n",
    "\n",
    "\n",
    "class Quest:\n",
    "    def __init__(self, quest_type, start, quest_target, location, enemy, person_to_visit, item_to_retrieve, number_to_collect=None, number_to_defeat=None):\n",
    "        self.quest_type = quest_type\n",
    "        self.start = start\n",
    "        self.quest_target = quest_target\n",
    "        self.location = location\n",
    "        self.enemy = enemy\n",
    "        self.person_to_visit = person_to_visit\n",
    "        self.item_to_retrieve = item_to_retrieve\n",
    "        self.number_to_collect = number_to_collect\n",
    "        self.number_to_defeat = number_to_defeat\n",
    "\n",
    "    def generate_description(self):\n",
    "        if self.quest_type == \"Gathering\":\n",
    "            return f\"{self.start} {self.number_to_collect} {self.quest_target} {self.location} protected by {self.enemy}\"\n",
    "        elif self.quest_type == \"Exploration\":\n",
    "            return f\"{self.start} {self.quest_target} and meet {self.person_to_visit}\"\n",
    "        elif self.quest_type == \"Combat\":\n",
    "            return f\"{self.start} {self.number_to_defeat} {self.quest_target} located in {self.location} and retrieve {self.item_to_retrieve}\"\n",
    "        else:\n",
    "            return \"Invalid quest type\"\n",
    "\n",
    "# Example usage:\n",
    "quest = Quest(\"Gathering\", \"Start at dawn,\", \"10 apples\", \"the Forbidden Forest\", \"a troll\", None, None, 10)\n",
    "print(quest.generate_description())"
   ]
  },
  {
   "cell_type": "markdown",
   "metadata": {},
   "source": [
    "## Using LLM to generate quest, dialouge, reward and objective"
   ]
  },
  {
   "cell_type": "code",
   "execution_count": 109,
   "metadata": {},
   "outputs": [],
   "source": [
    "from openai import OpenAI\n",
    "client = OpenAI()\n",
    "\n",
    "prompt = '''\n",
    "you are a  rpg game quest generator system. Given some information and the type of quest which has been \n",
    "extracted from a knowledge graph you are supposed to generate the quest for the player. With the quest you are \n",
    "also expected to generate an acompynying dialouge that will be spoken \n",
    "by an NPC that will give the quest to the player. Also generate a reward as well as an exact objective for the quest\n",
    "'''\n",
    "quest_type = \"Combat\"\n",
    "player_input = \"I want to go on a quest with Jackie Welles\"\n",
    "\n",
    "response = client.chat.completions.create(\n",
    "  model=\"gpt-3.5-turbo\",\n",
    "  messages=[\n",
    "    {\"role\": \"system\", \"content\": f\"{prompt} the knowledge graph output is {output} and the player input is {player_input} and the quest type is {quest_type}\"}\n",
    "    # {\"role\": \"assistant\", \"content\": output},\n",
    "    # {\"role\": \"user\", \"content\": player_input},\n",
    "    # {\"role\": \"assistant\", \"content\": quest_type}\n",
    "  ]\n",
    ")\n",
    "\n"
   ]
  },
  {
   "cell_type": "code",
   "execution_count": 110,
   "metadata": {},
   "outputs": [
    {
     "data": {
      "text/plain": [
       "'Quest: Sniper\\'s Delight\\n\\nNPC Dialogue: \\nAh, greetings adventurer! My name is Mitch, the local weapon smith around these parts. I have a special task for a skilled warrior like yourself. You see, a powerful sniper rifle known as \"BREAKTHROUGH\" has been spotted in the Junkyard, located in the Outskirts. Rumor has it that this rifle comes with incredible bonuses such as a +300% Headshot Damage Multiplier, +100% Armor Penetration, and a 1.25sec Charge Time. I believe this weapon would be perfect for someone of your expertise in combat. Retrieve the \"BREAKTHROUGH\" rifle for me, and you shall be greatly rewarded.\\n\\nObjective: \\nHead to the Junkyard in the Outskirts and retrieve the \"BREAKTHROUGH\" sniper rifle.\\n\\nReward: \\n- Exclusive access to purchase rare sniper rifle modifications\\n- Gold coins\\n- Experience points\\n\\nGood luck on your quest, brave adventurer!'"
      ]
     },
     "execution_count": 110,
     "metadata": {},
     "output_type": "execute_result"
    }
   ],
   "source": [
    "response.choices[0].message.content"
   ]
  },
  {
   "cell_type": "code",
   "execution_count": 111,
   "metadata": {},
   "outputs": [
    {
     "data": {
      "text/plain": [
       "'Quest: Sniper\\'s Delight\\n\\nNPC Dialogue: \\nAh, greetings adventurer! My name is Mitch, the local weapon smith around these parts. I have a special task for a skilled warrior like yourself. You see, a powerful sniper rifle known as \"BREAKTHROUGH\" has been spotted in the Junkyard, located in the Outskirts. Rumor has it that this rifle comes with incredible bonuses such as a +300% Headshot Damage Multiplier, +100% Armor Penetration, and a 1.25sec Charge Time. I believe this weapon would be perfect for someone of your expertise in combat. Retrieve the \"BREAKTHROUGH\" rifle for me, and you shall be greatly rewarded.\\n\\nObjective: \\nHead to the Junkyard in the Outskirts and retrieve the \"BREAKTHROUGH\" sniper rifle.\\n\\nReward: \\n- Exclusive access to purchase rare sniper rifle modifications\\n- Gold coins\\n- Experience points\\n\\nGood luck on your quest, brave adventurer!'"
      ]
     },
     "execution_count": 111,
     "metadata": {},
     "output_type": "execute_result"
    }
   ],
   "source": [
    "response.choices[0].message.content"
   ]
  }
 ],
 "metadata": {
  "kernelspec": {
   "display_name": "myenv",
   "language": "python",
   "name": "python3"
  },
  "language_info": {
   "codemirror_mode": {
    "name": "ipython",
    "version": 3
   },
   "file_extension": ".py",
   "mimetype": "text/x-python",
   "name": "python",
   "nbconvert_exporter": "python",
   "pygments_lexer": "ipython3",
   "version": "3.10.12"
  }
 },
 "nbformat": 4,
 "nbformat_minor": 2
}
